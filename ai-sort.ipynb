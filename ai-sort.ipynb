{
 "cells": [
  {
   "cell_type": "code",
   "execution_count": 1,
   "metadata": {},
   "outputs": [],
   "source": [
    "import ollama"
   ]
  },
  {
   "cell_type": "code",
   "execution_count": 2,
   "metadata": {},
   "outputs": [
    {
     "data": {
      "text/plain": [
       "{'status': 'success'}"
      ]
     },
     "execution_count": 2,
     "metadata": {},
     "output_type": "execute_result"
    }
   ],
   "source": [
    "modelfile = \"\"\"\n",
    "FROM llama3.1\n",
    "SYSTEM Sort the input list of numbers in ascending order. The list is comma-separated. Only return the list of numbers, not the input prompt.\n",
    "\"\"\"\n",
    "\n",
    "ollama.create(model=\"sortLlama\", modelfile=modelfile)"
   ]
  },
  {
   "cell_type": "code",
   "execution_count": 3,
   "metadata": {},
   "outputs": [
    {
     "data": {
      "text/plain": [
       "[1, 2, 3]"
      ]
     },
     "execution_count": 3,
     "metadata": {},
     "output_type": "execute_result"
    }
   ],
   "source": [
    "def sortLlama(list):\n",
    "    list_str = \",\".join([str(i) for i in list])\n",
    "    response = ollama.chat(\n",
    "        model=\"sortLlama\",\n",
    "        messages=[\n",
    "            {\n",
    "                \"role\": \"user\",\n",
    "                \"content\": list_str,\n",
    "            },\n",
    "        ],\n",
    "    )\n",
    "    list_response = response[\"message\"][\"content\"]\n",
    "\n",
    "    return [int(i) for i in list_response.split(\",\")]\n",
    "\n",
    "sortLlama([3, 2, 1])"
   ]
  }
 ],
 "metadata": {
  "kernelspec": {
   "display_name": "Python 3",
   "language": "python",
   "name": "python3"
  },
  "language_info": {
   "codemirror_mode": {
    "name": "ipython",
    "version": 3
   },
   "file_extension": ".py",
   "mimetype": "text/x-python",
   "name": "python",
   "nbconvert_exporter": "python",
   "pygments_lexer": "ipython3",
   "version": "3.12.1"
  }
 },
 "nbformat": 4,
 "nbformat_minor": 2
}
