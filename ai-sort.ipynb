{
 "cells": [
  {
   "cell_type": "code",
   "execution_count": 1,
   "metadata": {},
   "outputs": [],
   "source": [
    "import ollama\n",
    "from tqdm import tqdm"
   ]
  },
  {
   "cell_type": "code",
   "execution_count": 2,
   "metadata": {},
   "outputs": [
    {
     "data": {
      "text/plain": [
       "{'status': 'success'}"
      ]
     },
     "execution_count": 2,
     "metadata": {},
     "output_type": "execute_result"
    }
   ],
   "source": [
    "modelfile = \"\"\"\n",
    "FROM llama3.1\n",
    "SYSTEM Sort the input list of numbers in ascending order. The list is comma-separated. Only return the list of numbers, not the input prompt.\n",
    "\"\"\"\n",
    "\n",
    "ollama.create(model=\"sortLlama\", modelfile=modelfile)"
   ]
  },
  {
   "cell_type": "code",
   "execution_count": 3,
   "metadata": {},
   "outputs": [
    {
     "data": {
      "text/plain": [
       "[1, 2, 3]"
      ]
     },
     "execution_count": 3,
     "metadata": {},
     "output_type": "execute_result"
    }
   ],
   "source": [
    "import re\n",
    "\n",
    "def sortLlama(list):\n",
    "    list_str = \",\".join([str(i) for i in list])\n",
    "    response = ollama.chat(\n",
    "        model=\"sortLlama\",\n",
    "        messages=[\n",
    "            {\n",
    "                \"role\": \"user\",\n",
    "                \"content\": list_str,\n",
    "            },\n",
    "        ],\n",
    "    )\n",
    "    list_response = response[\"message\"][\"content\"]\n",
    "    list_response = re.sub(r'[^0-9,]', '', list_response)\n",
    "    return [int(i) for i in list_response.split(\",\")]\n",
    "\n",
    "sortLlama([3, 2, 1])"
   ]
  },
  {
   "cell_type": "code",
   "execution_count": 4,
   "metadata": {},
   "outputs": [
    {
     "name": "stderr",
     "output_type": "stream",
     "text": [
      "  6%|▋         | 32/500 [04:25<1:27:18, 11.19s/it]"
     ]
    },
    {
     "name": "stdout",
     "output_type": "stream",
     "text": [
      "Error: invalid literal for int() with base 10: ''\n"
     ]
    },
    {
     "name": "stderr",
     "output_type": "stream",
     "text": [
      "  7%|▋         | 37/500 [05:23<1:30:13, 11.69s/it]"
     ]
    },
    {
     "name": "stdout",
     "output_type": "stream",
     "text": [
      "Error: invalid literal for int() with base 10: ''\n"
     ]
    },
    {
     "name": "stderr",
     "output_type": "stream",
     "text": [
      " 20%|██        | 102/500 [19:14<1:26:07, 12.98s/it]"
     ]
    },
    {
     "name": "stdout",
     "output_type": "stream",
     "text": [
      "Error: invalid literal for int() with base 10: ''\n"
     ]
    },
    {
     "name": "stderr",
     "output_type": "stream",
     "text": [
      " 21%|██        | 103/500 [19:20<1:13:08, 11.05s/it]"
     ]
    },
    {
     "name": "stdout",
     "output_type": "stream",
     "text": [
      "Error: invalid literal for int() with base 10: ''\n"
     ]
    },
    {
     "name": "stderr",
     "output_type": "stream",
     "text": [
      " 21%|██        | 104/500 [19:22<55:24,  8.39s/it]  "
     ]
    },
    {
     "name": "stdout",
     "output_type": "stream",
     "text": [
      "Error: invalid literal for int() with base 10: ''\n"
     ]
    },
    {
     "name": "stderr",
     "output_type": "stream",
     "text": [
      " 21%|██        | 105/500 [19:27<47:28,  7.21s/it]"
     ]
    },
    {
     "name": "stdout",
     "output_type": "stream",
     "text": [
      "Error: invalid literal for int() with base 10: ''\n"
     ]
    },
    {
     "name": "stderr",
     "output_type": "stream",
     "text": [
      " 21%|██        | 106/500 [19:33<45:23,  6.91s/it]"
     ]
    },
    {
     "name": "stdout",
     "output_type": "stream",
     "text": [
      "Error: invalid literal for int() with base 10: ''\n"
     ]
    },
    {
     "name": "stderr",
     "output_type": "stream",
     "text": [
      " 21%|██▏       | 107/500 [19:38<41:57,  6.41s/it]"
     ]
    },
    {
     "name": "stdout",
     "output_type": "stream",
     "text": [
      "Error: invalid literal for int() with base 10: ''\n"
     ]
    },
    {
     "name": "stderr",
     "output_type": "stream",
     "text": [
      " 22%|██▏       | 108/500 [19:44<40:37,  6.22s/it]"
     ]
    },
    {
     "name": "stdout",
     "output_type": "stream",
     "text": [
      "Error: invalid literal for int() with base 10: ''\n"
     ]
    },
    {
     "name": "stderr",
     "output_type": "stream",
     "text": [
      " 22%|██▏       | 109/500 [19:50<40:42,  6.25s/it]"
     ]
    }
   ],
   "source": [
    "import random\n",
    "import time\n",
    "\n",
    "# Function to measure the time and length of random lists\n",
    "def measure_time_and_length(n=10):\n",
    "    # Generate a random list\n",
    "    random_list = [random.randint(1, 100) for _ in range(n)]\n",
    "\n",
    "    # Measure the time taken to generate the list\n",
    "    start_time = time.time()\n",
    "    try:\n",
    "        sorted_ai_list = sortLlama(random_list)\n",
    "    except Exception as e:\n",
    "        print(\"Error:\", e)\n",
    "        sorted_ai_list = []\n",
    "    end_time = time.time()\n",
    "    time_taken = end_time - start_time\n",
    "\n",
    "    sorted_list = sorted(random_list)\n",
    "\n",
    "    # Get the length of the list\n",
    "    list_length = len(random_list)\n",
    "    is_correct = sorted_list == sorted_ai_list\n",
    "\n",
    "    return time_taken, list_length, is_correct\n",
    "\n",
    "# Call the function and print the results\n",
    "all_points = []\n",
    "for n in tqdm(range(1, 5000, 10)):\n",
    "    time_taken, list_length, is_correct = measure_time_and_length(n)\n",
    "    all_points.append((time_taken, list_length, is_correct))"
   ]
  },
  {
   "cell_type": "code",
   "execution_count": null,
   "metadata": {},
   "outputs": [],
   "source": [
    "random_list = [random.randint(1, 100) for _ in range(100)]\n",
    "sorted_ai_list = sortLlama(random_list)\n",
    "sorted_list = sorted(random_list)\n",
    "print(\"Random List:\", random_list)\n",
    "print(\"Sorted List (AI):\", sorted_ai_list)\n",
    "print(\"Sorted List (Py):\", sorted_list)"
   ]
  },
  {
   "cell_type": "code",
   "execution_count": null,
   "metadata": {},
   "outputs": [],
   "source": [
    "import matplotlib.pyplot as plt\n",
    "\n",
    "# Extract the x, y, and color values from all_points\n",
    "all_times = [point[0] for point in all_points]\n",
    "all_lengths = [point[1] for point in all_points]\n",
    "color = ['green' if point[2] else 'red' for point in all_points]\n",
    "\n",
    "# Create the scatter plot\n",
    "plt.scatter(all_lengths, all_times, c=color)\n",
    "plt.xscale('log')\n",
    "plt.yscale('log')\n",
    "plt.xlabel('List Length')\n",
    "plt.ylabel('Time Taken')\n",
    "\n",
    "# Show the plot\n",
    "plt.show()"
   ]
  },
  {
   "cell_type": "code",
   "execution_count": null,
   "metadata": {},
   "outputs": [],
   "source": [
    "import numpy as np\n",
    "\n",
    "import matplotlib.pyplot as plt\n",
    "\n",
    "# Extract the x and y values from all_points\n",
    "x = [point[1] for point in all_points]\n",
    "y = [point[0] for point in all_points]\n",
    "\n",
    "# Fit a linear line\n",
    "linear_coeffs = np.polyfit(x, y, 1)\n",
    "linear_line = np.poly1d(linear_coeffs)\n",
    "\n",
    "# Fit a log(n) line\n",
    "log_coeffs = np.polyfit(np.log(x), y, 1)\n",
    "log_line = np.poly1d(log_coeffs)\n",
    "\n",
    "# Fit a n*log(n) line\n",
    "nlog_coeffs = np.polyfit(x * np.log(x), y, 1)\n",
    "nlog_line = np.poly1d(nlog_coeffs)\n",
    "\n",
    "# Fit a n^2 line\n",
    "n2_coeffs = np.polyfit(np.square(x), y, 1)\n",
    "n2_line = np.poly1d(n2_coeffs)\n",
    "\n",
    "# Plot the data points\n",
    "plt.scatter(x, y, color=color)\n",
    "\n",
    "# Plot the fitted lines\n",
    "plt.plot(x, linear_line(x), label='Linear')\n",
    "plt.plot(x, log_line(np.log(x)), label='Log(n)')\n",
    "plt.plot(x, nlog_line(x * np.log(x)), label='n*log(n)')\n",
    "plt.plot(x, n2_line(np.square(x)), label='n^2')\n",
    "\n",
    "# Set the x-axis and y-axis labels\n",
    "plt.xlabel('List Length')\n",
    "plt.ylabel('Time Taken')\n",
    "# Set the minimum y-axis value to 0\n",
    "plt.ylim(bottom=0)\n",
    "# Add a legend\n",
    "plt.legend()\n",
    "\n",
    "# Show the plot\n",
    "plt.show()"
   ]
  }
 ],
 "metadata": {
  "kernelspec": {
   "display_name": "Python 3",
   "language": "python",
   "name": "python3"
  },
  "language_info": {
   "codemirror_mode": {
    "name": "ipython",
    "version": 3
   },
   "file_extension": ".py",
   "mimetype": "text/x-python",
   "name": "python",
   "nbconvert_exporter": "python",
   "pygments_lexer": "ipython3",
   "version": "3.12.1"
  }
 },
 "nbformat": 4,
 "nbformat_minor": 2
}
